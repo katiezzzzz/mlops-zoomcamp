{
 "cells": [
  {
   "cell_type": "markdown",
   "id": "80d1ed0f-423b-468e-88e6-9c0edfe8aeb6",
   "metadata": {},
   "source": [
    "# Get access to mlflow without UI"
   ]
  },
  {
   "cell_type": "code",
   "execution_count": 2,
   "id": "73b5ad87-77c2-40e1-9c8b-29bb8d8de2e9",
   "metadata": {},
   "outputs": [],
   "source": [
    "from mlflow.tracking import MlflowClient\n",
    "\n",
    "MLFLOW_TRACKING_URI = \"sqlite:///mlflow.db\"\n",
    "\n",
    "client = MlflowClient(tracking_uri = MLFLOW_TRACKING_URI)"
   ]
  },
  {
   "cell_type": "code",
   "execution_count": 3,
   "id": "bdfca0e9-a98f-4a92-9b9b-ea92e4eb7d80",
   "metadata": {},
   "outputs": [
    {
     "data": {
      "text/plain": [
       "[<Experiment: artifact_location='/workspaces/mlops-zoomcamp/03-training/experiment_tracking/mlruns/2', creation_time=1739379215612, experiment_id='2', last_update_time=1739379215612, lifecycle_stage='active', name='test', tags={}>,\n",
       " <Experiment: artifact_location='/workspaces/mlops-zoomcamp/03-training/experiment_tracking/mlruns/1', creation_time=1738676613877, experiment_id='1', last_update_time=1738676613877, lifecycle_stage='active', name='nyc-taxi-experiment', tags={}>,\n",
       " <Experiment: artifact_location='/workspaces/mlops-zoomcamp/03-training/experiment_tracking/mlruns/0', creation_time=1738676613873, experiment_id='0', last_update_time=1738676613873, lifecycle_stage='active', name='Default', tags={}>]"
      ]
     },
     "execution_count": 3,
     "metadata": {},
     "output_type": "execute_result"
    }
   ],
   "source": [
    "client.search_experiments()"
   ]
  },
  {
   "cell_type": "raw",
   "id": "434b8a95-bad7-4869-9a8b-31ddb11c8495",
   "metadata": {},
   "source": [
    "# create new experiment\n",
    "\n",
    "client.create_experiment(\"test\")"
   ]
  },
  {
   "cell_type": "code",
   "execution_count": 4,
   "id": "58eb4d5a-adda-4be1-b34d-ebd84395719b",
   "metadata": {},
   "outputs": [],
   "source": [
    "from mlflow.entities import ViewType\n",
    "\n",
    "# can inspect the runs and apply filters to the search\n",
    "runs = client.search_runs(\n",
    "    experiment_ids='1',\n",
    "    filter_string='metrics.rmse < 6.8',\n",
    "    run_view_type=ViewType.ACTIVE_ONLY,\n",
    "    max_results=5,\n",
    "    order_by=[\"metrics.rmse ASC\"]\n",
    ")"
   ]
  },
  {
   "cell_type": "code",
   "execution_count": 6,
   "id": "a2559676",
   "metadata": {},
   "outputs": [
    {
     "data": {
      "text/plain": [
       "<Run: data=<RunData: metrics={'rmse': 5.469224792417576}, params={'learning_rate': '0.29122519299691013',\n",
       " 'max_depth': '87',\n",
       " 'min_child_weight': '1.1251068416171426',\n",
       " 'objective': 'reg:linear',\n",
       " 'reg_alpha': '0.00716725908061934',\n",
       " 'seed': '42'}, tags={'mlflow.log-model.history': '[{\"run_id\": \"7ced78e294ba48c9904625c91346cb01\", '\n",
       "                             '\"artifact_path\": \"models_mlflow\", '\n",
       "                             '\"utc_time_created\": \"2025-02-12 '\n",
       "                             '16:27:39.192719\", \"model_uuid\": '\n",
       "                             '\"0e377b4742e14c3abbdcd0e4a7929441\", \"flavors\": '\n",
       "                             '{\"python_function\": {\"loader_module\": '\n",
       "                             '\"mlflow.xgboost\", \"python_version\": \"3.13.1\", '\n",
       "                             '\"data\": \"model.xgb\", \"env\": {\"conda\": '\n",
       "                             '\"conda.yaml\", \"virtualenv\": \"python_env.yaml\"}}, '\n",
       "                             '\"xgboost\": {\"xgb_version\": \"2.1.3\", \"data\": '\n",
       "                             '\"model.xgb\", \"model_class\": '\n",
       "                             '\"xgboost.core.Booster\", \"model_format\": \"xgb\", '\n",
       "                             '\"code\": null}}}]',\n",
       " 'mlflow.runName': 'zealous-seal-774',\n",
       " 'mlflow.source.name': '/opt/conda/envs/exp-tracking-env/lib/python3.13/site-packages/ipykernel_launcher.py',\n",
       " 'mlflow.source.type': 'LOCAL',\n",
       " 'mlflow.user': 'codespace'}>, info=<RunInfo: artifact_uri='/workspaces/mlops-zoomcamp/03-training/experiment_tracking/mlruns/1/7ced78e294ba48c9904625c91346cb01/artifacts', end_time=1739377667675, experiment_id='1', lifecycle_stage='active', run_id='7ced78e294ba48c9904625c91346cb01', run_name='zealous-seal-774', run_uuid='7ced78e294ba48c9904625c91346cb01', start_time=1739376268998, status='FINISHED', user_id='codespace'>, inputs=<RunInputs: dataset_inputs=[]>>"
      ]
     },
     "execution_count": 6,
     "metadata": {},
     "output_type": "execute_result"
    }
   ],
   "source": [
    "runs[0]"
   ]
  },
  {
   "cell_type": "code",
   "execution_count": 4,
   "id": "9c3f95d2-56a5-4749-b7a7-3ae708a31be1",
   "metadata": {},
   "outputs": [
    {
     "name": "stdout",
     "output_type": "stream",
     "text": [
      "run id: 7ced78e294ba48c9904625c91346cb01, rmse: 5.4692\n"
     ]
    }
   ],
   "source": [
    "for run in runs:\n",
    "    print(f\"run id: {run.info.run_id}, rmse: {run.data.metrics['rmse']:.4f}\")"
   ]
  },
  {
   "cell_type": "markdown",
   "id": "a64ad5b3-b510-4066-b37c-5d8483b568e7",
   "metadata": {},
   "source": [
    "# Promote models to model registry"
   ]
  },
  {
   "cell_type": "code",
   "execution_count": 5,
   "id": "eba36e57-f251-4e49-b9a4-e69b7cd4c44d",
   "metadata": {},
   "outputs": [],
   "source": [
    "import mlflow\n",
    "\n",
    "mlflow.set_tracking_uri(MLFLOW_TRACKING_URI)"
   ]
  },
  {
   "cell_type": "code",
   "execution_count": 6,
   "id": "9d9f078d-4337-47fb-bce9-753c8b7c5a23",
   "metadata": {},
   "outputs": [
    {
     "name": "stderr",
     "output_type": "stream",
     "text": [
      "Registered model 'nyc-taxi-regressor' already exists. Creating a new version of this model...\n",
      "Created version '3' of model 'nyc-taxi-regressor'.\n"
     ]
    },
    {
     "data": {
      "text/plain": [
       "<ModelVersion: aliases=[], creation_timestamp=1739447100283, current_stage='None', description=None, last_updated_timestamp=1739447100283, name='nyc-taxi-regressor', run_id='530b0b0f348a42549e4d21fb6910f057', run_link=None, source='/workspaces/mlops-zoomcamp/03-training/experiment_tracking/mlruns/1/530b0b0f348a42549e4d21fb6910f057/artifacts/models_mlflow', status='READY', status_message=None, tags={}, user_id=None, version=3>"
      ]
     },
     "execution_count": 6,
     "metadata": {},
     "output_type": "execute_result"
    }
   ],
   "source": [
    "run_id = \"530b0b0f348a42549e4d21fb6910f057\"\n",
    "model_uri = f\"runs:/{run_id}/models_mlflow\"\n",
    "\n",
    "mlflow.register_model(model_uri=model_uri, name=\"nyc-taxi-regressor\")"
   ]
  },
  {
   "cell_type": "code",
   "execution_count": 7,
   "id": "120d3b55-8acd-4b0c-b38f-a852e23d9494",
   "metadata": {},
   "outputs": [
    {
     "name": "stdout",
     "output_type": "stream",
     "text": [
      "version: 2, alias: []\n",
      "version: 3, alias: []\n"
     ]
    },
    {
     "name": "stderr",
     "output_type": "stream",
     "text": [
      "/tmp/ipykernel_51931/167798224.py:2: FutureWarning: ``mlflow.tracking.client.MlflowClient.get_latest_versions`` is deprecated since 2.9.0. Model registry stages will be removed in a future major release. To learn more about the deprecation of model registry stages, see our migration guide here: https://mlflow.org/docs/latest/model-registry.html#migrating-from-stages\n",
      "  latest_versions = client.get_latest_versions(name=model_name)\n"
     ]
    }
   ],
   "source": [
    "model_name = \"nyc-taxi-regressor\"\n",
    "latest_versions = client.get_latest_versions(name=model_name)\n",
    "\n",
    "for version in latest_versions:\n",
    "    print(f\"version: {version.version}, alias: {version.aliases}\")"
   ]
  },
  {
   "cell_type": "code",
   "execution_count": 8,
   "id": "e5474480-fddf-4dfc-9255-843d51d9b1d7",
   "metadata": {},
   "outputs": [
    {
     "data": {
      "text/plain": [
       "[<ModelVersion: aliases=[], creation_timestamp=1739442288681, current_stage='Staging', description=None, last_updated_timestamp=1739443552634, name='nyc-taxi-regressor', run_id='530b0b0f348a42549e4d21fb6910f057', run_link=None, source='/workspaces/mlops-zoomcamp/03-training/experiment_tracking/mlruns/1/530b0b0f348a42549e4d21fb6910f057/artifacts/models_mlflow', status='READY', status_message=None, tags={'model': 'sklearn'}, user_id=None, version=2>,\n",
       " <ModelVersion: aliases=[], creation_timestamp=1739447100283, current_stage='None', description=None, last_updated_timestamp=1739447100283, name='nyc-taxi-regressor', run_id='530b0b0f348a42549e4d21fb6910f057', run_link=None, source='/workspaces/mlops-zoomcamp/03-training/experiment_tracking/mlruns/1/530b0b0f348a42549e4d21fb6910f057/artifacts/models_mlflow', status='READY', status_message=None, tags={}, user_id=None, version=3>]"
      ]
     },
     "execution_count": 8,
     "metadata": {},
     "output_type": "execute_result"
    }
   ],
   "source": [
    "latest_versions"
   ]
  },
  {
   "cell_type": "code",
   "execution_count": 9,
   "id": "0412516a-b8c1-41cd-bcbd-2182e99e2552",
   "metadata": {},
   "outputs": [],
   "source": [
    "client.set_registered_model_alias(\n",
    "    name = model_name,\n",
    "    version = 1,\n",
    "    alias = \"challenger1\"\n",
    ")"
   ]
  },
  {
   "cell_type": "code",
   "execution_count": 10,
   "id": "e6aaf025-4adb-432f-95cd-ee3e74ec9270",
   "metadata": {},
   "outputs": [],
   "source": [
    "import pandas as pd\n",
    "import xgboost as xgb\n",
    "from sklearn.metrics import mean_squared_error"
   ]
  },
  {
   "cell_type": "raw",
   "id": "17987871-824b-40b1-8727-46d1f559bd46",
   "metadata": {},
   "source": [
    "test_df = pd.read_parquet(\"https://d37ci6vzurychx.cloudfront.net/trip-data/yellow_tripdata_2024-03.parquet\")\n",
    "test_df.to_csv(\"green_tripdata_2024-03.csv\", index=False)"
   ]
  },
  {
   "cell_type": "code",
   "execution_count": 11,
   "id": "3b8382bf-b27e-4b2b-b983-c6b21549ef40",
   "metadata": {},
   "outputs": [],
   "source": [
    "def read_dataframe(filename):\n",
    "    df = pd.read_csv(filename)\n",
    "    df[\"duration\"] = pd.to_datetime(df[\"tpep_dropoff_datetime\"]) - pd.to_datetime(df[\"tpep_pickup_datetime\"])\n",
    "    df[\"duration\"] = df[\"duration\"].dt.total_seconds() / 60\n",
    "    df = df[df[\"duration\"] < 60]\n",
    "\n",
    "    df.loc[:, \"PULocationID\"] = df[\"PULocationID\"].astype(str)\n",
    "    df.loc[:, \"DOLocationID\"] = df[\"DOLocationID\"].astype(str)\n",
    "    return df\n",
    "\n",
    "def preprocess(df, dv):\n",
    "    feature_dicts = df[['PULocationID', 'DOLocationID']].to_dict(orient='records')\n",
    "    return dv.transform(feature_dicts)\n",
    "\n",
    "def test_model(name, alias, x_test, y_test):\n",
    "    model = mlflow.pyfunc.load_model(f\"models:/{name}@{alias}\")\n",
    "    y_pred = model.predict(x_test)\n",
    "    return {\"rmse\": mean_squared_error(y_test, y_pred)**0.5}"
   ]
  },
  {
   "cell_type": "code",
   "execution_count": 12,
   "id": "56de7e4d-0781-4c52-9bda-d16b7aa05a75",
   "metadata": {},
   "outputs": [
    {
     "name": "stderr",
     "output_type": "stream",
     "text": [
      "/tmp/ipykernel_51931/1482234113.py:2: DtypeWarning: Columns (6) have mixed types. Specify dtype option on import or set low_memory=False.\n",
      "  df = pd.read_csv(filename)\n",
      "/tmp/ipykernel_51931/1482234113.py:7: FutureWarning: Setting an item of incompatible dtype is deprecated and will raise in a future error of pandas. Value '['142' '238' '263' ... '63' '161' '95']' has dtype incompatible with int64, please explicitly cast to a compatible dtype first.\n",
      "  df.loc[:, \"PULocationID\"] = df[\"PULocationID\"].astype(str)\n",
      "/tmp/ipykernel_51931/1482234113.py:8: FutureWarning: Setting an item of incompatible dtype is deprecated and will raise in a future error of pandas. Value '['239' '24' '75' ... '181' '148' '7']' has dtype incompatible with int64, please explicitly cast to a compatible dtype first.\n",
      "  df.loc[:, \"DOLocationID\"] = df[\"DOLocationID\"].astype(str)\n"
     ]
    }
   ],
   "source": [
    "test_df = read_dataframe(\"./data/green_tripdata_2024-03.csv\")"
   ]
  },
  {
   "cell_type": "raw",
   "id": "a563ec73-851a-499b-867f-b362877473d5",
   "metadata": {},
   "source": [
    "# to get the preprocessor\n",
    "client.download_artifacts(run_id=\"7ced78e294ba48c9904625c91346cb01\", path=\"preprocessor\", dst_path=\".\")"
   ]
  },
  {
   "cell_type": "code",
   "execution_count": 13,
   "id": "e1b4c19c-e370-4bcf-bbcd-ed45f5665112",
   "metadata": {},
   "outputs": [],
   "source": [
    "import pickle\n",
    "\n",
    "with open(\"preprocessor/preprocessor.b\", \"rb\") as f_in:\n",
    "    dv = pickle.load(f_in)"
   ]
  },
  {
   "cell_type": "code",
   "execution_count": 14,
   "id": "4f130ed3-eb06-40cb-8e51-40515a81e905",
   "metadata": {},
   "outputs": [],
   "source": [
    "target = \"duration\"\n",
    "y_test = test_df[target].to_numpy()"
   ]
  },
  {
   "cell_type": "code",
   "execution_count": 15,
   "id": "0a5d3619-d880-4f41-bb71-a226d7cc337f",
   "metadata": {},
   "outputs": [],
   "source": [
    "x_test = preprocess(test_df, dv)\n",
    "x_test = xgb.DMatrix(x_test, label=y_test)"
   ]
  },
  {
   "cell_type": "code",
   "execution_count": 19,
   "id": "e5e66655-31d1-4e7f-95eb-38b67ba0f203",
   "metadata": {},
   "outputs": [],
   "source": [
    "model = mlflow.xgboost.load_model(f\"models:/{model_name}@challenger1\")"
   ]
  },
  {
   "cell_type": "code",
   "execution_count": 21,
   "id": "49e140df-ca80-4a29-9d2e-ba4afd28203a",
   "metadata": {},
   "outputs": [],
   "source": [
    "y_pred = model.predict(x_test)"
   ]
  },
  {
   "cell_type": "code",
   "execution_count": 23,
   "id": "7d171f84-3d4d-4e6e-a4a7-2af69f39f8bd",
   "metadata": {},
   "outputs": [
    {
     "name": "stdout",
     "output_type": "stream",
     "text": [
      "{'rmse': 5.782673051553634}\n"
     ]
    }
   ],
   "source": [
    "print({\"rmse\": mean_squared_error(y_test, y_pred)**0.5})"
   ]
  },
  {
   "cell_type": "code",
   "execution_count": 16,
   "id": "54d2c014-7ba1-4a16-b1cf-09596963adbf",
   "metadata": {},
   "outputs": [
    {
     "name": "stderr",
     "output_type": "stream",
     "text": [
      "/opt/conda/envs/exp-tracking-env/lib/python3.13/site-packages/xgboost/data.py:1138: UserWarning: Unknown data type: <class 'xgboost.core.DMatrix'>, trying to convert it to csr_matrix\n",
      "  warnings.warn(\n"
     ]
    },
    {
     "ename": "TypeError",
     "evalue": "Not supported type for data.<class 'xgboost.core.DMatrix'>",
     "output_type": "error",
     "traceback": [
      "\u001b[0;31m---------------------------------------------------------------------------\u001b[0m",
      "\u001b[0;31mTypeError\u001b[0m                                 Traceback (most recent call last)",
      "File \u001b[0;32m<timed eval>:1\u001b[0m\n",
      "Cell \u001b[0;32mIn[11], line 17\u001b[0m, in \u001b[0;36mtest_model\u001b[0;34m(name, alias, x_test, y_test)\u001b[0m\n\u001b[1;32m     15\u001b[0m \u001b[38;5;28;01mdef\u001b[39;00m\u001b[38;5;250m \u001b[39m\u001b[38;5;21mtest_model\u001b[39m(name, alias, x_test, y_test):\n\u001b[1;32m     16\u001b[0m     model \u001b[38;5;241m=\u001b[39m mlflow\u001b[38;5;241m.\u001b[39mpyfunc\u001b[38;5;241m.\u001b[39mload_model(\u001b[38;5;124mf\u001b[39m\u001b[38;5;124m\"\u001b[39m\u001b[38;5;124mmodels:/\u001b[39m\u001b[38;5;132;01m{\u001b[39;00mname\u001b[38;5;132;01m}\u001b[39;00m\u001b[38;5;124m@\u001b[39m\u001b[38;5;132;01m{\u001b[39;00malias\u001b[38;5;132;01m}\u001b[39;00m\u001b[38;5;124m\"\u001b[39m)\n\u001b[0;32m---> 17\u001b[0m     y_pred \u001b[38;5;241m=\u001b[39m \u001b[43mmodel\u001b[49m\u001b[38;5;241;43m.\u001b[39;49m\u001b[43mpredict\u001b[49m\u001b[43m(\u001b[49m\u001b[43mx_test\u001b[49m\u001b[43m)\u001b[49m\n\u001b[1;32m     18\u001b[0m     \u001b[38;5;28;01mreturn\u001b[39;00m {\u001b[38;5;124m\"\u001b[39m\u001b[38;5;124mrmse\u001b[39m\u001b[38;5;124m\"\u001b[39m: mean_squared_error(y_test, y_pred)\u001b[38;5;241m*\u001b[39m\u001b[38;5;241m*\u001b[39m\u001b[38;5;241m0.5\u001b[39m}\n",
      "File \u001b[0;32m/opt/conda/envs/exp-tracking-env/lib/python3.13/site-packages/mlflow/pyfunc/__init__.py:809\u001b[0m, in \u001b[0;36mPyFuncModel.predict\u001b[0;34m(self, data, params)\u001b[0m\n\u001b[1;32m    807\u001b[0m \u001b[38;5;28;01mif\u001b[39;00m schema \u001b[38;5;241m:=\u001b[39m _get_dependencies_schema_from_model(\u001b[38;5;28mself\u001b[39m\u001b[38;5;241m.\u001b[39m_model_meta):\n\u001b[1;32m    808\u001b[0m     context\u001b[38;5;241m.\u001b[39mupdate(\u001b[38;5;241m*\u001b[39m\u001b[38;5;241m*\u001b[39mschema)\n\u001b[0;32m--> 809\u001b[0m \u001b[38;5;28;01mreturn\u001b[39;00m \u001b[38;5;28;43mself\u001b[39;49m\u001b[38;5;241;43m.\u001b[39;49m\u001b[43m_predict\u001b[49m\u001b[43m(\u001b[49m\u001b[43mdata\u001b[49m\u001b[43m,\u001b[49m\u001b[43m \u001b[49m\u001b[43mparams\u001b[49m\u001b[43m)\u001b[49m\n",
      "File \u001b[0;32m/opt/conda/envs/exp-tracking-env/lib/python3.13/site-packages/mlflow/pyfunc/__init__.py:859\u001b[0m, in \u001b[0;36mPyFuncModel._predict\u001b[0;34m(self, data, params)\u001b[0m\n\u001b[1;32m    857\u001b[0m params_arg \u001b[38;5;241m=\u001b[39m inspect\u001b[38;5;241m.\u001b[39msignature(\u001b[38;5;28mself\u001b[39m\u001b[38;5;241m.\u001b[39m_predict_fn)\u001b[38;5;241m.\u001b[39mparameters\u001b[38;5;241m.\u001b[39mget(\u001b[38;5;124m\"\u001b[39m\u001b[38;5;124mparams\u001b[39m\u001b[38;5;124m\"\u001b[39m)\n\u001b[1;32m    858\u001b[0m \u001b[38;5;28;01mif\u001b[39;00m params_arg \u001b[38;5;129;01mand\u001b[39;00m params_arg\u001b[38;5;241m.\u001b[39mkind \u001b[38;5;241m!=\u001b[39m inspect\u001b[38;5;241m.\u001b[39mParameter\u001b[38;5;241m.\u001b[39mVAR_KEYWORD:\n\u001b[0;32m--> 859\u001b[0m     \u001b[38;5;28;01mreturn\u001b[39;00m \u001b[38;5;28;43mself\u001b[39;49m\u001b[38;5;241;43m.\u001b[39;49m\u001b[43m_predict_fn\u001b[49m\u001b[43m(\u001b[49m\u001b[43mdata\u001b[49m\u001b[43m,\u001b[49m\u001b[43m \u001b[49m\u001b[43mparams\u001b[49m\u001b[38;5;241;43m=\u001b[39;49m\u001b[43mparams\u001b[49m\u001b[43m)\u001b[49m\n\u001b[1;32m    861\u001b[0m _log_warning_if_params_not_in_predict_signature(_logger, params)\n\u001b[1;32m    862\u001b[0m \u001b[38;5;28;01mreturn\u001b[39;00m \u001b[38;5;28mself\u001b[39m\u001b[38;5;241m.\u001b[39m_predict_fn(data)\n",
      "File \u001b[0;32m/opt/conda/envs/exp-tracking-env/lib/python3.13/site-packages/mlflow/xgboost/__init__.py:376\u001b[0m, in \u001b[0;36m_XGBModelWrapper.predict\u001b[0;34m(self, dataframe, params)\u001b[0m\n\u001b[1;32m    371\u001b[0m \u001b[38;5;28;01mif\u001b[39;00m \u001b[38;5;129;01mnot\u001b[39;00m \u001b[38;5;28misinstance\u001b[39m(\u001b[38;5;28mself\u001b[39m\u001b[38;5;241m.\u001b[39mxgb_model, xgb\u001b[38;5;241m.\u001b[39mBooster):\n\u001b[1;32m    372\u001b[0m     \u001b[38;5;66;03m# Exclude unrecognized parameters as feature store team has\u001b[39;00m\n\u001b[1;32m    373\u001b[0m     \u001b[38;5;66;03m# dependency on this behavior. They might pass additional parameters\u001b[39;00m\n\u001b[1;32m    374\u001b[0m     \u001b[38;5;66;03m# that cannot be passed to the model.\u001b[39;00m\n\u001b[1;32m    375\u001b[0m     params \u001b[38;5;241m=\u001b[39m _exclude_unrecognized_kwargs(predict_fn, params)\n\u001b[0;32m--> 376\u001b[0m \u001b[38;5;28;01mreturn\u001b[39;00m \u001b[43mpredict_fn\u001b[49m\u001b[43m(\u001b[49m\u001b[43mdataframe\u001b[49m\u001b[43m,\u001b[49m\u001b[43m \u001b[49m\u001b[38;5;241;43m*\u001b[39;49m\u001b[38;5;241;43m*\u001b[39;49m\u001b[43mparams\u001b[49m\u001b[43m)\u001b[49m\n",
      "File \u001b[0;32m/opt/conda/envs/exp-tracking-env/lib/python3.13/site-packages/mlflow/xgboost/__init__.py:410\u001b[0m, in \u001b[0;36m_wrapped_xgboost_model_predict_fn.<locals>.wrapped_predict_fn\u001b[0;34m(data, *args, **kwargs)\u001b[0m\n\u001b[1;32m    407\u001b[0m \u001b[38;5;28;01mdef\u001b[39;00m\u001b[38;5;250m \u001b[39m\u001b[38;5;21mwrapped_predict_fn\u001b[39m(data, \u001b[38;5;241m*\u001b[39margs, \u001b[38;5;241m*\u001b[39m\u001b[38;5;241m*\u001b[39mkwargs):\n\u001b[1;32m    408\u001b[0m     filtered_kwargs \u001b[38;5;241m=\u001b[39m _exclude_unrecognized_kwargs(model\u001b[38;5;241m.\u001b[39mpredict, kwargs)\n\u001b[1;32m    409\u001b[0m     \u001b[38;5;28;01mreturn\u001b[39;00m model\u001b[38;5;241m.\u001b[39mpredict(\n\u001b[0;32m--> 410\u001b[0m         \u001b[43mxgb\u001b[49m\u001b[38;5;241;43m.\u001b[39;49m\u001b[43mDMatrix\u001b[49m\u001b[43m(\u001b[49m\u001b[43mdata\u001b[49m\u001b[43m)\u001b[49m, \u001b[38;5;241m*\u001b[39margs, validate_features\u001b[38;5;241m=\u001b[39mvalidate_features, \u001b[38;5;241m*\u001b[39m\u001b[38;5;241m*\u001b[39mfiltered_kwargs\n\u001b[1;32m    411\u001b[0m     )\n",
      "File \u001b[0;32m/opt/conda/envs/exp-tracking-env/lib/python3.13/site-packages/xgboost/core.py:726\u001b[0m, in \u001b[0;36mrequire_keyword_args.<locals>.throw_if.<locals>.inner_f\u001b[0;34m(*args, **kwargs)\u001b[0m\n\u001b[1;32m    724\u001b[0m \u001b[38;5;28;01mfor\u001b[39;00m k, arg \u001b[38;5;129;01min\u001b[39;00m \u001b[38;5;28mzip\u001b[39m(sig\u001b[38;5;241m.\u001b[39mparameters, args):\n\u001b[1;32m    725\u001b[0m     kwargs[k] \u001b[38;5;241m=\u001b[39m arg\n\u001b[0;32m--> 726\u001b[0m \u001b[38;5;28;01mreturn\u001b[39;00m \u001b[43mfunc\u001b[49m\u001b[43m(\u001b[49m\u001b[38;5;241;43m*\u001b[39;49m\u001b[38;5;241;43m*\u001b[39;49m\u001b[43mkwargs\u001b[49m\u001b[43m)\u001b[49m\n",
      "File \u001b[0;32m/opt/conda/envs/exp-tracking-env/lib/python3.13/site-packages/xgboost/core.py:878\u001b[0m, in \u001b[0;36mDMatrix.__init__\u001b[0;34m(self, data, label, weight, base_margin, missing, silent, feature_names, feature_types, nthread, group, qid, label_lower_bound, label_upper_bound, feature_weights, enable_categorical, data_split_mode)\u001b[0m\n\u001b[1;32m    875\u001b[0m     \u001b[38;5;28;01massert\u001b[39;00m \u001b[38;5;28mself\u001b[39m\u001b[38;5;241m.\u001b[39mhandle \u001b[38;5;129;01mis\u001b[39;00m \u001b[38;5;129;01mnot\u001b[39;00m \u001b[38;5;28;01mNone\u001b[39;00m\n\u001b[1;32m    876\u001b[0m     \u001b[38;5;28;01mreturn\u001b[39;00m\n\u001b[0;32m--> 878\u001b[0m handle, feature_names, feature_types \u001b[38;5;241m=\u001b[39m \u001b[43mdispatch_data_backend\u001b[49m\u001b[43m(\u001b[49m\n\u001b[1;32m    879\u001b[0m \u001b[43m    \u001b[49m\u001b[43mdata\u001b[49m\u001b[43m,\u001b[49m\n\u001b[1;32m    880\u001b[0m \u001b[43m    \u001b[49m\u001b[43mmissing\u001b[49m\u001b[38;5;241;43m=\u001b[39;49m\u001b[38;5;28;43mself\u001b[39;49m\u001b[38;5;241;43m.\u001b[39;49m\u001b[43mmissing\u001b[49m\u001b[43m,\u001b[49m\n\u001b[1;32m    881\u001b[0m \u001b[43m    \u001b[49m\u001b[43mthreads\u001b[49m\u001b[38;5;241;43m=\u001b[39;49m\u001b[38;5;28;43mself\u001b[39;49m\u001b[38;5;241;43m.\u001b[39;49m\u001b[43mnthread\u001b[49m\u001b[43m,\u001b[49m\n\u001b[1;32m    882\u001b[0m \u001b[43m    \u001b[49m\u001b[43mfeature_names\u001b[49m\u001b[38;5;241;43m=\u001b[39;49m\u001b[43mfeature_names\u001b[49m\u001b[43m,\u001b[49m\n\u001b[1;32m    883\u001b[0m \u001b[43m    \u001b[49m\u001b[43mfeature_types\u001b[49m\u001b[38;5;241;43m=\u001b[39;49m\u001b[43mfeature_types\u001b[49m\u001b[43m,\u001b[49m\n\u001b[1;32m    884\u001b[0m \u001b[43m    \u001b[49m\u001b[43menable_categorical\u001b[49m\u001b[38;5;241;43m=\u001b[39;49m\u001b[43menable_categorical\u001b[49m\u001b[43m,\u001b[49m\n\u001b[1;32m    885\u001b[0m \u001b[43m    \u001b[49m\u001b[43mdata_split_mode\u001b[49m\u001b[38;5;241;43m=\u001b[39;49m\u001b[43mdata_split_mode\u001b[49m\u001b[43m,\u001b[49m\n\u001b[1;32m    886\u001b[0m \u001b[43m\u001b[49m\u001b[43m)\u001b[49m\n\u001b[1;32m    887\u001b[0m \u001b[38;5;28;01massert\u001b[39;00m handle \u001b[38;5;129;01mis\u001b[39;00m \u001b[38;5;129;01mnot\u001b[39;00m \u001b[38;5;28;01mNone\u001b[39;00m\n\u001b[1;32m    888\u001b[0m \u001b[38;5;28mself\u001b[39m\u001b[38;5;241m.\u001b[39mhandle \u001b[38;5;241m=\u001b[39m handle\n",
      "File \u001b[0;32m/opt/conda/envs/exp-tracking-env/lib/python3.13/site-packages/xgboost/data.py:1251\u001b[0m, in \u001b[0;36mdispatch_data_backend\u001b[0;34m(data, missing, threads, feature_names, feature_types, enable_categorical, data_split_mode)\u001b[0m\n\u001b[1;32m   1246\u001b[0m \u001b[38;5;28;01mif\u001b[39;00m converted \u001b[38;5;129;01mis\u001b[39;00m \u001b[38;5;129;01mnot\u001b[39;00m \u001b[38;5;28;01mNone\u001b[39;00m:\n\u001b[1;32m   1247\u001b[0m     \u001b[38;5;28;01mreturn\u001b[39;00m _from_scipy_csr(\n\u001b[1;32m   1248\u001b[0m         converted, missing, threads, feature_names, feature_types\n\u001b[1;32m   1249\u001b[0m     )\n\u001b[0;32m-> 1251\u001b[0m \u001b[38;5;28;01mraise\u001b[39;00m \u001b[38;5;167;01mTypeError\u001b[39;00m(\u001b[38;5;124m\"\u001b[39m\u001b[38;5;124mNot supported type for data.\u001b[39m\u001b[38;5;124m\"\u001b[39m \u001b[38;5;241m+\u001b[39m \u001b[38;5;28mstr\u001b[39m(\u001b[38;5;28mtype\u001b[39m(data)))\n",
      "\u001b[0;31mTypeError\u001b[0m: Not supported type for data.<class 'xgboost.core.DMatrix'>"
     ]
    }
   ],
   "source": [
    "%time test_model(model_name, alias=\"challenger1\", x_test=x_test, y_test=y_test)"
   ]
  },
  {
   "cell_type": "code",
   "execution_count": null,
   "id": "4c3c94af-2d3f-489a-ba84-b02d18924219",
   "metadata": {},
   "outputs": [],
   "source": []
  }
 ],
 "metadata": {
  "kernelspec": {
   "display_name": "exp-tracking-env",
   "language": "python",
   "name": "python3"
  },
  "language_info": {
   "codemirror_mode": {
    "name": "ipython",
    "version": 3
   },
   "file_extension": ".py",
   "mimetype": "text/x-python",
   "name": "python",
   "nbconvert_exporter": "python",
   "pygments_lexer": "ipython3",
   "version": "3.13.1"
  }
 },
 "nbformat": 4,
 "nbformat_minor": 5
}
