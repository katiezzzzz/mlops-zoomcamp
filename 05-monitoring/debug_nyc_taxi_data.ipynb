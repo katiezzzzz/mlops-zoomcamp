{
 "cells": [
  {
   "cell_type": "markdown",
   "metadata": {},
   "source": [
    "# Debugging with Evidently Test Suites and Reports"
   ]
  },
  {
   "cell_type": "code",
   "execution_count": 1,
   "metadata": {},
   "outputs": [],
   "source": [
    "import datetime\n",
    "import pandas as pd\n",
    "\n",
    "from evidently import ColumnMapping\n",
    "from evidently.report import Report\n",
    "# there are other resets e.g. classification performance, regression performance, data quality\n",
    "# addressing different parts of data pipeline\n",
    "from evidently.metric_preset import DataDriftPreset\n",
    "\n",
    "# test suites contain a lot of different tests to help you figure out whether the metric values are as expected\n",
    "from evidently.test_suite import TestSuite\n",
    "from evidently.test_preset import DataDriftTestPreset\n",
    "\n",
    "from joblib import dump, load\n",
    "\n",
    "from sklearn.linear_model import LinearRegression\n",
    "from sklearn.metrics import mean_absolute_error, mean_absolute_percentage_error"
   ]
  },
  {
   "cell_type": "markdown",
   "metadata": {},
   "source": [
    "# Load data and model"
   ]
  },
  {
   "cell_type": "code",
   "execution_count": 2,
   "metadata": {},
   "outputs": [],
   "source": [
    "ref_data = pd.read_parquet('data/reference.parquet')"
   ]
  },
  {
   "cell_type": "code",
   "execution_count": 3,
   "metadata": {},
   "outputs": [],
   "source": [
    "current_data = pd.read_parquet('data/green_tripdata_2022-02.parquet')"
   ]
  },
  {
   "cell_type": "code",
   "execution_count": 4,
   "metadata": {},
   "outputs": [],
   "source": [
    "with open('models/lin_reg.bin', 'rb') as f_in:\n",
    "    model = load(f_in)"
   ]
  },
  {
   "cell_type": "code",
   "execution_count": 5,
   "metadata": {},
   "outputs": [],
   "source": [
    "# data labeling\n",
    "target = \"duration_min\"\n",
    "num_features = [\"passenger_count\", \"trip_distance\", \"fare_amount\", \"total_amount\"]\n",
    "cat_features = [\"PULocationID\", \"DOLocationID\"]"
   ]
  },
  {
   "cell_type": "code",
   "execution_count": 6,
   "metadata": {},
   "outputs": [],
   "source": [
    "# select problematic part of current dataset\n",
    "problematic_data = current_data.loc[(current_data.lpep_pickup_datetime >= datetime.datetime(2022,2,2,0,0)) & \n",
    "                               (current_data.lpep_pickup_datetime < datetime.datetime(2022,2,3,0,0))]"
   ]
  },
  {
   "cell_type": "markdown",
   "metadata": {},
   "source": [
    "## Generate test suite and report"
   ]
  },
  {
   "cell_type": "markdown",
   "metadata": {},
   "source": [
    "interested in prediction drift"
   ]
  },
  {
   "cell_type": "code",
   "execution_count": 7,
   "metadata": {},
   "outputs": [],
   "source": [
    "column_mapping = ColumnMapping(\n",
    "    prediction='prediction',\n",
    "    numerical_features=num_features,\n",
    "    categorical_features=cat_features,\n",
    "    target=None\n",
    ")"
   ]
  },
  {
   "cell_type": "code",
   "execution_count": 8,
   "metadata": {},
   "outputs": [],
   "source": [
    "problematic_data['prediction'] = model.predict(problematic_data[num_features + cat_features].fillna(0))"
   ]
  },
  {
   "cell_type": "code",
   "execution_count": 12,
   "metadata": {},
   "outputs": [
    {
     "name": "stdout",
     "output_type": "stream",
     "text": [
      "['Config', '__abstractmethods__', '__annotations__', '__class__', '__class_vars__', '__config__', '__custom_root_type__', '__delattr__', '__dict__', '__dir__', '__doc__', '__eq__', '__exclude_fields__', '__fields__', '__fields_set__', '__format__', '__ge__', '__get_classpath__', '__get_type__', '__get_validators__', '__getattribute__', '__getstate__', '__gt__', '__hash__', '__include_fields__', '__init__', '__init_subclass__', '__init_values__', '__is_base_type__', '__iter__', '__json_encoder__', '__le__', '__lt__', '__module__', '__ne__', '__new__', '__post_root_validators__', '__pre_root_validators__', '__pretty__', '__private_attributes__', '__reduce__', '__reduce_ex__', '__repr__', '__repr_args__', '__repr_name__', '__repr_str__', '__rich_repr__', '__schema_cache__', '__setattr__', '__setstate__', '__signature__', '__sizeof__', '__slots__', '__str__', '__subclasshook__', '__subtypes__', '__try_update_forward_refs__', '__validators__', '_abc_impl', '_calculate_keys', '_copy_and_set_values', '_decompose_class', '_enforce_dict_if_root', '_field_hash', '_get_value', '_init_private_attributes', '_init_values', '_iter', 'construct', 'copy', 'dict', 'from_orm', 'generate_metrics', 'get_field_fingerprint', 'get_fingerprint', 'get_fingerprint_parts', 'json', 'parse_file', 'parse_obj', 'parse_raw', 'schema', 'schema_json', 'update', 'update_forward_refs', 'validate']\n"
     ]
    }
   ],
   "source": [
    "print(dir(DataDriftPreset))"
   ]
  },
  {
   "cell_type": "code",
   "execution_count": 11,
   "metadata": {},
   "outputs": [
    {
     "ename": "AttributeError",
     "evalue": "'DataDriftPreset' object has no attribute 'set_context'",
     "output_type": "error",
     "traceback": [
      "\u001b[31m---------------------------------------------------------------------------\u001b[39m",
      "\u001b[31mAttributeError\u001b[39m                            Traceback (most recent call last)",
      "\u001b[36mCell\u001b[39m\u001b[36m \u001b[39m\u001b[32mIn[11]\u001b[39m\u001b[32m, line 2\u001b[39m\n\u001b[32m      1\u001b[39m test_suite = TestSuite(tests=[DataDriftPreset(),])\n\u001b[32m----> \u001b[39m\u001b[32m2\u001b[39m \u001b[43mtest_suite\u001b[49m\u001b[43m.\u001b[49m\u001b[43mrun\u001b[49m\u001b[43m(\u001b[49m\u001b[43mcurrent_data\u001b[49m\u001b[43m=\u001b[49m\u001b[43mproblematic_data\u001b[49m\u001b[43m,\u001b[49m\u001b[43mreference_data\u001b[49m\u001b[43m=\u001b[49m\u001b[43mref_data\u001b[49m\u001b[43m,\u001b[49m\u001b[43mcolumn_mapping\u001b[49m\u001b[43m=\u001b[49m\u001b[43mcolumn_mapping\u001b[49m\u001b[43m)\u001b[49m\n",
      "\u001b[36mFile \u001b[39m\u001b[32m/opt/conda/envs/monitor/lib/python3.11/site-packages/evidently/test_suite/test_suite.py:124\u001b[39m, in \u001b[36mTestSuite.run\u001b[39m\u001b[34m(self, reference_data, current_data, column_mapping, engine, additional_data, timestamp)\u001b[39m\n\u001b[32m    122\u001b[39m \u001b[38;5;28mself\u001b[39m._inner_suite.reset()\n\u001b[32m    123\u001b[39m \u001b[38;5;28mself\u001b[39m._inner_suite.set_engine(PythonEngine() \u001b[38;5;28;01mif\u001b[39;00m engine \u001b[38;5;129;01mis\u001b[39;00m \u001b[38;5;28;01mNone\u001b[39;00m \u001b[38;5;28;01melse\u001b[39;00m engine())\n\u001b[32m--> \u001b[39m\u001b[32m124\u001b[39m \u001b[38;5;28;43mself\u001b[39;49m\u001b[43m.\u001b[49m\u001b[43m_add_tests\u001b[49m\u001b[43m(\u001b[49m\u001b[43m)\u001b[49m\n\u001b[32m    125\u001b[39m \u001b[38;5;28;01mif\u001b[39;00m \u001b[38;5;28mself\u001b[39m._inner_suite.context.engine \u001b[38;5;129;01mis\u001b[39;00m \u001b[38;5;28;01mNone\u001b[39;00m:\n\u001b[32m    126\u001b[39m     \u001b[38;5;28;01mraise\u001b[39;00m \u001b[38;5;167;01mValueError\u001b[39;00m(\u001b[33m\"\u001b[39m\u001b[33mEngine is not set\u001b[39m\u001b[33m\"\u001b[39m)\n",
      "\u001b[36mFile \u001b[39m\u001b[32m/opt/conda/envs/monitor/lib/python3.11/site-packages/evidently/test_suite/test_suite.py:92\u001b[39m, in \u001b[36mTestSuite._add_tests\u001b[39m\u001b[34m(self)\u001b[39m\n\u001b[32m     90\u001b[39m \u001b[38;5;28;01mdef\u001b[39;00m\u001b[38;5;250m \u001b[39m\u001b[34m_add_tests\u001b[39m(\u001b[38;5;28mself\u001b[39m):\n\u001b[32m     91\u001b[39m     \u001b[38;5;28;01mfor\u001b[39;00m original_test \u001b[38;5;129;01min\u001b[39;00m \u001b[38;5;28mself\u001b[39m._tests \u001b[38;5;129;01mor\u001b[39;00m []:\n\u001b[32m---> \u001b[39m\u001b[32m92\u001b[39m         \u001b[38;5;28;43mself\u001b[39;49m\u001b[43m.\u001b[49m\u001b[43m_add_test\u001b[49m\u001b[43m(\u001b[49m\u001b[43moriginal_test\u001b[49m\u001b[43m)\u001b[49m\n",
      "\u001b[36mFile \u001b[39m\u001b[32m/opt/conda/envs/monitor/lib/python3.11/site-packages/evidently/test_suite/test_suite.py:96\u001b[39m, in \u001b[36mTestSuite._add_test\u001b[39m\u001b[34m(self, test)\u001b[39m\n\u001b[32m     94\u001b[39m \u001b[38;5;28;01mdef\u001b[39;00m\u001b[38;5;250m \u001b[39m\u001b[34m_add_test\u001b[39m(\u001b[38;5;28mself\u001b[39m, test: Test):\n\u001b[32m     95\u001b[39m     new_test = test.copy()  \u001b[38;5;66;03m# copy.copy(test)\u001b[39;00m\n\u001b[32m---> \u001b[39m\u001b[32m96\u001b[39m     \u001b[38;5;28;43mself\u001b[39;49m\u001b[43m.\u001b[49m\u001b[43m_inner_suite\u001b[49m\u001b[43m.\u001b[49m\u001b[43madd_test\u001b[49m\u001b[43m(\u001b[49m\u001b[43mnew_test\u001b[49m\u001b[43m)\u001b[49m\n",
      "\u001b[36mFile \u001b[39m\u001b[32m/opt/conda/envs/monitor/lib/python3.11/site-packages/evidently/suite/base_suite.py:384\u001b[39m, in \u001b[36mSuite.add_test\u001b[39m\u001b[34m(self, test)\u001b[39m\n\u001b[32m    383\u001b[39m \u001b[38;5;28;01mdef\u001b[39;00m\u001b[38;5;250m \u001b[39m\u001b[34madd_test\u001b[39m(\u001b[38;5;28mself\u001b[39m, test: Test):\n\u001b[32m--> \u001b[39m\u001b[32m384\u001b[39m     \u001b[43mtest\u001b[49m\u001b[43m.\u001b[49m\u001b[43mset_context\u001b[49m(\u001b[38;5;28mself\u001b[39m.context)\n\u001b[32m    385\u001b[39m     \u001b[38;5;28;01mfor\u001b[39;00m field_name, dependency \u001b[38;5;129;01min\u001b[39;00m _discover_dependencies(test):\n\u001b[32m    386\u001b[39m         \u001b[38;5;28;01mif\u001b[39;00m \u001b[38;5;28misinstance\u001b[39m(dependency, Metric):\n",
      "\u001b[31mAttributeError\u001b[39m: 'DataDriftPreset' object has no attribute 'set_context'"
     ]
    }
   ],
   "source": [
    "test_suite = TestSuite(tests=[DataDriftPreset(),])\n",
    "test_suite.run(current_data=problematic_data,reference_data=ref_data,column_mapping=column_mapping)"
   ]
  },
  {
   "cell_type": "code",
   "execution_count": null,
   "metadata": {},
   "outputs": [],
   "source": []
  }
 ],
 "metadata": {
  "kernelspec": {
   "display_name": "monitor",
   "language": "python",
   "name": "python3"
  },
  "language_info": {
   "codemirror_mode": {
    "name": "ipython",
    "version": 3
   },
   "file_extension": ".py",
   "mimetype": "text/x-python",
   "name": "python",
   "nbconvert_exporter": "python",
   "pygments_lexer": "ipython3",
   "version": "3.11.11"
  }
 },
 "nbformat": 4,
 "nbformat_minor": 2
}
